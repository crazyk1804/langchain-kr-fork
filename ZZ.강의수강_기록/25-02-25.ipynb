{
 "cells": [
  {
   "cell_type": "markdown",
   "metadata": {},
   "source": [
    "# <b style=\"color:rgb(247, 118, 167)\">Part 01 Langchain 입문</b>"
   ]
  },
  {
   "cell_type": "markdown",
   "metadata": {},
   "source": [
    "### <b style=\"color:rgb(50, 162, 182);\">Ch.01 랭체인 시작</b>"
   ]
  },
  {
   "cell_type": "markdown",
   "metadata": {},
   "source": [
    "##### **01. 강의를 보는방법**\n",
    "- 순차적으로 추천하지 않음\n",
    "- 초반에 전체를 조립하는 영상이 있음\n",
    "- 부품 조립 하듯 필요한 영상 참조하여 완성해가는 식으로 볼 것"
   ]
  },
  {
   "cell_type": "markdown",
   "metadata": {},
   "source": [
    "##### **02. RAG 기술이 주목받는 이유**\n",
    "- 외부 유출이 민감한 데이터를 다룰 수 있다.\n",
    "- 성능을 올릴 수 있다.\n",
    "- 최신 데이터를 학습시키지 않아도 된다.\n",
    "- 쉽다."
   ]
  },
  {
   "cell_type": "markdown",
   "metadata": {},
   "source": [
    "##### **03. 위키독스 전자책 활용법**\n",
    "- 랭체인 노트\n",
    "- 강의 내용 기반이므로 순서대로 보는것 추천 NO"
   ]
  },
  {
   "cell_type": "markdown",
   "metadata": {},
   "source": [
    "##### **04. 실습코드**\n",
    "- GIT에서 받아서...\n",
    "- https://github.com/teddylee777/langchain-kr.git"
   ]
  },
  {
   "cell_type": "markdown",
   "metadata": {},
   "source": [
    "### <b style=\"color:rgb(50, 162, 182);\">Ch.02 환경설정</b>"
   ]
  },
  {
   "cell_type": "markdown",
   "metadata": {},
   "source": [
    "### **01. 환경설치**\n",
    "- pyenv\n",
    "- poetry\n",
    "- poetry shell은 안됨. 버전 2부터 포함되지 않음\n",
    "- conda 환경에 poetry 설치했는데 shell은 필요 없었던 것 같음\n",
    "- poetry update 하니까 패키지 설치 잘 되었음"
   ]
  },
  {
   "cell_type": "markdown",
   "metadata": {},
   "source": [
    "##### **02. 환경설치 MAC - 스킵**"
   ]
  },
  {
   "cell_type": "markdown",
   "metadata": {},
   "source": [
    "##### **03.OpenAI API 키발급 - 스킵**"
   ]
  },
  {
   "cell_type": "markdown",
   "metadata": {},
   "source": [
    "##### **04. LangSmith 키 발급**\n",
    "- www.smith.langchain.com\n",
    "- 가입 후 입력은 스킵 해도 무방\n",
    "- 설정 들어가서 키 발급\n",
    "- .env 설정해야 함. 지가 만들어두고 설명은 없어서 그냥 그런가 함.\n",
    "- 좌측 상단의 Tracing Project로 사용 내역 추적 가능\n",
    "- from dotenv import load_dotenv\n",
    "- load_dotenv() # .env 파일을 환경변수로 등록해준다.\n",
    "- from langchain_teddynote import logging # LangSmith 추적을 시작합니다. 나와야 함."
   ]
  },
  {
   "cell_type": "markdown",
   "metadata": {},
   "source": [
    "##### **05. VSCODE 설정 - 내 설정이 더 좋아**"
   ]
  },
  {
   "cell_type": "markdown",
   "metadata": {},
   "source": [
    "### <b style=\"color:rgb(50, 162, 182);\">Ch.03 LangChain 시작하기</b>"
   ]
  },
  {
   "cell_type": "markdown",
   "metadata": {},
   "source": [
    "##### **01. 랭체인 개요**\n",
    "- LLM 어플리케이션 만드는 프레임 워크\n",
    "- 문서 입력 등 여러가지를 간단한 방법으로 사용가능"
   ]
  },
  {
   "cell_type": "markdown",
   "metadata": {},
   "source": [
    "##### **02. Jupyter Notebook 설정 - 필요없어**"
   ]
  },
  {
   "cell_type": "markdown",
   "metadata": {},
   "source": [
    "##### **03. LangChain 시작**\n",
    "- GPT를 랭체인을 통해서 사용할 수 있다.\n",
    "- API란 뭐다, 원하는 설정을 적용해서 사용할 수 있다.\n",
    "- OpenAI 모델 뭐뭐 있다.\n",
    "- 시발 뭘 시작했는지 모르겠는데"
   ]
  },
  {
   "cell_type": "markdown",
   "metadata": {},
   "source": [
    "##### **04. 토큰**\n",
    "- GPT 4o는 한글도 토큰화 최적화 되어있다."
   ]
  },
  {
   "cell_type": "markdown",
   "metadata": {},
   "source": [
    "##### **05. 모델 입출력**\n",
    "- 토큰 길이 모델별로 다르다.\n",
    "- max_token은 system, input, output 합친 개념\n",
    "- GPT 4는 128k인데 output이 4k라서 나머지 input을 많이 넣을 수 있다.\n",
    "- 응답을 간단하게 만들면 비용 절감\n",
    "- 기획서, 보고서 등은 output이 길어야 함"
   ]
  },
  {
   "cell_type": "markdown",
   "metadata": {},
   "source": [
    "# <b style=\"color:rgb(248, 1, 1)\">야이 씨발 언제 시작하는데! 내가 새벽 1시 넘도록 오리엔테이션만 쳐 봐야 하냐</b>"
   ]
  },
  {
   "cell_type": "markdown",
   "metadata": {},
   "source": [
    "### <b style=\"color:rgb(50, 162, 182);\">Ch.04 LangChain 문법 기본</b>"
   ]
  },
  {
   "cell_type": "markdown",
   "metadata": {},
   "source": [
    "##### **01. ChatOpenAI 주요 파라미터**\n",
    "- model_name, temperature, max_token(default 4096)\n",
    "- llm = ChatOpenAI()\n",
    "- llm.invoke(question)\n",
    "- 응답은 content, response_metadata를 담고있음\n",
    "- bind(logprobs=True) 로 probs를 받을 수 있으나 쓸데없다.\n",
    "- llm.stream 으로 실시간 토큰단위 전송 사용 가능함\n",
    "- stream_response 내가(테디가) 만들었다."
   ]
  },
  {
   "cell_type": "markdown",
   "metadata": {},
   "source": [
    "##### **02. LangSmith GPT 추론내용 추적**\n",
    "- 랭스미스 웹페이지의 project 란에서 project별로 LLM 문답사항에 대한 내용을 추적 가능하다 시발아"
   ]
  },
  {
   "cell_type": "markdown",
   "metadata": {},
   "source": [
    "##### **03. GPT-4o 이미지 인식(멀티모달)**\n",
    "- GPT-4o는 멀티모달 가능\n",
    "- 이미지 인식만 가능\n",
    "- 내가만든 MultiModal 클래스로 이미지 분석요청을 쉽게 할 수 있다."
   ]
  },
  {
   "cell_type": "markdown",
   "metadata": {},
   "source": []
  }
 ],
 "metadata": {
  "language_info": {
   "name": "python"
  }
 },
 "nbformat": 4,
 "nbformat_minor": 2
}
