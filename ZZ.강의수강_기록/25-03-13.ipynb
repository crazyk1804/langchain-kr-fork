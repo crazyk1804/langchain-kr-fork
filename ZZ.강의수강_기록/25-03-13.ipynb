{
 "cells": [
  {
   "cell_type": "markdown",
   "metadata": {},
   "source": [
    "# <b style=\"color:rgb(247, 118, 167)\">Part 01 Langchain 입문</b>\n",
    "- 영상보다 책이 빠를거같아서 내용도 같은거같아 위키독스 기준으로 봄"
   ]
  },
  {
   "cell_type": "markdown",
   "metadata": {},
   "source": [
    "##### **05. LCEL**\n",
    "- ProjectTemplate과 모델 래퍼, OutputParser를 하나로 묶어서 체인을 구성할 수 있다.\n",
    "- chain = project_template | model | output_parser\n",
    "- answer = chain.invoke({key: value})"
   ]
  },
  {
   "cell_type": "markdown",
   "metadata": {},
   "source": [
    "##### **05. LCEL - Advanced**\n",
    "- 비동기: astream\n",
    "- 비동기 호출: ainvoke\n",
    "- 비동기 배치: abatch\n",
    "- 병렬처리: RunnableParallel"
   ]
  },
  {
   "cell_type": "markdown",
   "metadata": {},
   "source": []
  }
 ],
 "metadata": {
  "language_info": {
   "name": "python"
  }
 },
 "nbformat": 4,
 "nbformat_minor": 2
}
