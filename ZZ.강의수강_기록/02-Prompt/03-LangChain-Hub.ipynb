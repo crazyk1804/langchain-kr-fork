{
 "cells": [
  {
   "cell_type": "markdown",
   "metadata": {},
   "source": [
    "#### <b>랭체인 사이트에서 홈 아래에 랭체인 허브 접속할 수 있음</b>\n",
    "- UI는 변경되므로 위치는 달라질 수 있다.\n",
    "- 프롬프트의 버전별로 해시문자열이 달라서 해당버전을 찾아서 가져올 수 있다."
   ]
  },
  {
   "cell_type": "code",
   "execution_count": 3,
   "metadata": {},
   "outputs": [],
   "source": [
    "import sys\n",
    "sys.path.append('../..')\n",
    "from ck_helper import print_attrs, ready_langchain, _model_name"
   ]
  },
  {
   "cell_type": "code",
   "execution_count": 1,
   "metadata": {},
   "outputs": [],
   "source": [
    "from langchain import hub"
   ]
  },
  {
   "cell_type": "code",
   "execution_count": 4,
   "metadata": {},
   "outputs": [
    {
     "name": "stdout",
     "output_type": "stream",
     "text": [
      "========================================\n",
      " [name]\n",
      " None\n",
      "========================================\n",
      " [input_variables]\n",
      " ['context', 'question']\n",
      "========================================\n",
      " [optional_variables]\n",
      " []\n",
      "========================================\n",
      " [input_types]\n",
      " {}\n",
      "========================================\n",
      " [output_parser]\n",
      " None\n",
      "========================================\n",
      " [partial_variables]\n",
      " {}\n",
      "========================================\n",
      " [metadata]\n",
      " {'lc_hub_owner': 'rlm', 'lc_hub_repo': 'rag-prompt', 'lc_hub_commit_hash': '50442af133e61576e74536c6556cefe1fac147cad032f4377b60c436e6cdcb6e'}\n",
      "========================================\n",
      " [tags]\n",
      " None\n",
      "========================================\n",
      " [messages]\n",
      " [HumanMessagePromptTemplate(prompt=PromptTemplate(input_variables=['context', 'question'], input_types={}, partial_variables={}, template=\"You are an assistant for question-answering tasks. Use the following pieces of retrieved context to answer the question. If you don't know the answer, just say that you don't know. Use three sentences maximum and keep the answer concise.\\nQuestion: {question} \\nContext: {context} \\nAnswer:\"), additional_kwargs={})]\n",
      "========================================\n",
      "     [prompt]\n",
      "     input_variables=['context', 'question'] input_types={} partial_variables={} template=\"You are an assistant for question-answering tasks. Use the following pieces of retrieved context to answer the question. If you don't know the answer, just say that you don't know. Use three sentences maximum and keep the answer concise.\\nQuestion: {question} \\nContext: {context} \\nAnswer:\"\n",
      "========================================\n",
      "         [name]\n",
      "         None\n",
      "========================================\n",
      "         [input_variables]\n",
      "         ['context', 'question']\n",
      "========================================\n",
      "         [optional_variables]\n",
      "         []\n",
      "========================================\n",
      "         [input_types]\n",
      "         {}\n",
      "========================================\n",
      "         [output_parser]\n",
      "         None\n",
      "========================================\n",
      "         [partial_variables]\n",
      "         {}\n",
      "========================================\n",
      "         [metadata]\n",
      "         None\n",
      "========================================\n",
      "         [tags]\n",
      "         None\n",
      "========================================\n",
      "         [template]\n",
      "         You are an assistant for question-answering tasks. Use the following pieces of retrieved context to answer the question. If you don't know the answer, just say that you don't know. Use three sentences maximum and keep the answer concise.\n",
      "Question: {question} \n",
      "Context: {context} \n",
      "Answer:\n",
      "========================================\n",
      "         [template_format]\n",
      "         f-string\n",
      "========================================\n",
      "         [validate_template]\n",
      "         False\n",
      "========================================\n",
      "     [additional_kwargs]\n",
      "     {}\n",
      "========================================\n",
      " [validate_template]\n",
      " False\n"
     ]
    }
   ],
   "source": [
    "prompt = hub.pull('rlm/rag-prompt')\n",
    "print_attrs(prompt)"
   ]
  },
  {
   "cell_type": "code",
   "execution_count": 5,
   "metadata": {},
   "outputs": [
    {
     "name": "stdout",
     "output_type": "stream",
     "text": [
      "========================================\n",
      " [name]\n",
      " None\n",
      "========================================\n",
      " [input_variables]\n",
      " ['context', 'question']\n",
      "========================================\n",
      " [optional_variables]\n",
      " []\n",
      "========================================\n",
      " [input_types]\n",
      " {}\n",
      "========================================\n",
      " [output_parser]\n",
      " None\n",
      "========================================\n",
      " [partial_variables]\n",
      " {}\n",
      "========================================\n",
      " [metadata]\n",
      " {'lc_hub_owner': 'rlm', 'lc_hub_repo': 'rag-prompt', 'lc_hub_commit_hash': '50442af133e61576e74536c6556cefe1fac147cad032f4377b60c436e6cdcb6e'}\n",
      "========================================\n",
      " [tags]\n",
      " None\n",
      "========================================\n",
      " [messages]\n",
      " [HumanMessagePromptTemplate(prompt=PromptTemplate(input_variables=['context', 'question'], input_types={}, partial_variables={}, template=\"You are an assistant for question-answering tasks. Use the following pieces of retrieved context to answer the question. If you don't know the answer, just say that you don't know. Use three sentences maximum and keep the answer concise.\\nQuestion: {question} \\nContext: {context} \\nAnswer:\"), additional_kwargs={})]\n",
      "========================================\n",
      "     [prompt]\n",
      "     input_variables=['context', 'question'] input_types={} partial_variables={} template=\"You are an assistant for question-answering tasks. Use the following pieces of retrieved context to answer the question. If you don't know the answer, just say that you don't know. Use three sentences maximum and keep the answer concise.\\nQuestion: {question} \\nContext: {context} \\nAnswer:\"\n",
      "========================================\n",
      "         [name]\n",
      "         None\n",
      "========================================\n",
      "         [input_variables]\n",
      "         ['context', 'question']\n",
      "========================================\n",
      "         [optional_variables]\n",
      "         []\n",
      "========================================\n",
      "         [input_types]\n",
      "         {}\n",
      "========================================\n",
      "         [output_parser]\n",
      "         None\n",
      "========================================\n",
      "         [partial_variables]\n",
      "         {}\n",
      "========================================\n",
      "         [metadata]\n",
      "         None\n",
      "========================================\n",
      "         [tags]\n",
      "         None\n",
      "========================================\n",
      "         [template]\n",
      "         You are an assistant for question-answering tasks. Use the following pieces of retrieved context to answer the question. If you don't know the answer, just say that you don't know. Use three sentences maximum and keep the answer concise.\n",
      "Question: {question} \n",
      "Context: {context} \n",
      "Answer:\n",
      "========================================\n",
      "         [template_format]\n",
      "         f-string\n",
      "========================================\n",
      "         [validate_template]\n",
      "         False\n",
      "========================================\n",
      "     [additional_kwargs]\n",
      "     {}\n",
      "========================================\n",
      " [validate_template]\n",
      " False\n"
     ]
    }
   ],
   "source": [
    "prompt = hub.pull('rlm/rag-prompt:50442af1')\n",
    "print_attrs(prompt)"
   ]
  },
  {
   "cell_type": "markdown",
   "metadata": {},
   "source": [
    "#### <b>허브에 내 프롬프트 등록/사용이 가능하다</b>"
   ]
  },
  {
   "cell_type": "code",
   "execution_count": 6,
   "metadata": {},
   "outputs": [],
   "source": [
    "# hub.push('teddynote/simple-summary-korean', prompt)\n",
    "# 출력: 'https://smith.langchain.com/hub/teddynote/simple-summary-korean/0e296563'\n",
    "# pulled_prompt = hub.pull(\"teddynote/simple-summary-korean\")"
   ]
  },
  {
   "cell_type": "code",
   "execution_count": null,
   "metadata": {},
   "outputs": [],
   "source": []
  }
 ],
 "metadata": {
  "kernelspec": {
   "display_name": "rag",
   "language": "python",
   "name": "python3"
  },
  "language_info": {
   "codemirror_mode": {
    "name": "ipython",
    "version": 3
   },
   "file_extension": ".py",
   "mimetype": "text/x-python",
   "name": "python",
   "nbconvert_exporter": "python",
   "pygments_lexer": "ipython3",
   "version": "3.11.11"
  }
 },
 "nbformat": 4,
 "nbformat_minor": 2
}
