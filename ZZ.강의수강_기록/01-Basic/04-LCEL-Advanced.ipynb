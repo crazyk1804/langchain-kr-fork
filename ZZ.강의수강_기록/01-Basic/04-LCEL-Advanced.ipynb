{
 "cells": [
  {
   "cell_type": "markdown",
   "metadata": {},
   "source": [
    "# <b style=\"color:rgb(247, 118, 167)\">LCEL - Advanced</b>"
   ]
  },
  {
   "cell_type": "code",
   "execution_count": 1,
   "metadata": {},
   "outputs": [],
   "source": [
    "import sys\n",
    "sys.path.append('../..')\n",
    "\n",
    "from ck_helper import print_attrs, ready_langchain"
   ]
  },
  {
   "cell_type": "code",
   "execution_count": 2,
   "metadata": {},
   "outputs": [
    {
     "name": "stdout",
     "output_type": "stream",
     "text": [
      "LangSmith 추적을 시작합니다.\n",
      "[프로젝트명]\n",
      "CVAL\n"
     ]
    }
   ],
   "source": [
    "ready_langchain('CVAL')"
   ]
  },
  {
   "cell_type": "code",
   "execution_count": 3,
   "metadata": {},
   "outputs": [],
   "source": [
    "from langchain_openai import ChatOpenAI\n",
    "from langchain_core.prompts import PromptTemplate\n",
    "from langchain_core.output_parsers import StrOutputParser"
   ]
  },
  {
   "cell_type": "code",
   "execution_count": 4,
   "metadata": {},
   "outputs": [],
   "source": [
    "model = ChatOpenAI(model='gpt-4o-mini')\n",
    "prompt = PromptTemplate.from_template('{topic}에 대해 3문장 설명')\n",
    "output_parser = StrOutputParser()\n",
    "chain = prompt | model | output_parser"
   ]
  },
  {
   "cell_type": "markdown",
   "metadata": {},
   "source": [
    "#### <b>배치/비동기 처리</b>\n",
    "- 비동기면 기다리는 동안 다른 처리를 할 수 있어야 하는데 관련 설명이 없냐"
   ]
  },
  {
   "cell_type": "code",
   "execution_count": 5,
   "metadata": {},
   "outputs": [],
   "source": [
    "result = chain.batch([{'topic': '배치처리'}, {'topic': '바람'}])"
   ]
  },
  {
   "cell_type": "code",
   "execution_count": 9,
   "metadata": {},
   "outputs": [
    {
     "name": "stdout",
     "output_type": "stream",
     "text": [
      "배치처리란 대량의 데이터를 한꺼번에 처리하는 방식으로, 주로 주기적으로 발생하는 작업에 사용됩니다. 이 방법은 데이터의 수집, 저장, 처리 과정을 자동화하여 효율성을 높이고 인간의 개입을 최소화할 수 있습니다. 배치처리는 일반적으로 데이터 분석, 보고서 생성, 대규모 데이터 마이그레이션 등 다양한 분야에서 활용됩니다.\n",
      "바람은 대기 중의 공기가 이동하는 현상으로, 주로 기온 차와 압력 차에 의해 발생합니다. 바람은 지구의 날씨와 기후에 중요한 역할을 하며, 대기 순환을 통해 열과 수분을 전달합니다. 또한, 바람은 풍력 발전과 같은 에너지원으로 활용되기도 하며, 자연 생태계에서도 중요한 요소로 작용합니다.\n"
     ]
    }
   ],
   "source": [
    "for answer in result:\n",
    "    print(answer)"
   ]
  },
  {
   "cell_type": "code",
   "execution_count": 11,
   "metadata": {},
   "outputs": [
    {
     "name": "stdout",
     "output_type": "stream",
     "text": [
      "비동기 처리는 프로그램이 특정 작업을 수행하는 동안 다른 작업을 동시에 진행할 수 있도록 하는 프로그래밍 방식입니다. 이 방법은 주로 I/O 작업이나 네트워크 요청과 같이 시간이 오래 걸리는 작업에서 사용되며, 전체 애플리케이션의 성능을 향상시킵니다. 비동기 처리를 활용하면, 작업이 완료될 때까지 기다리지 않고 다른 작업을 수행할 수 있어 사용자 경험을 개선할 수 있습니다.\n"
     ]
    }
   ],
   "source": [
    "async for token in chain.astream({'topic': '비동기 처리'}):\n",
    "    print(token, end='', flush=True)\n",
    "print()"
   ]
  },
  {
   "cell_type": "code",
   "execution_count": 13,
   "metadata": {},
   "outputs": [],
   "source": [
    "invoke_process = chain.ainvoke({'topic': '비동기 호출'})"
   ]
  },
  {
   "cell_type": "code",
   "execution_count": 14,
   "metadata": {},
   "outputs": [
    {
     "data": {
      "text/plain": [
       "'비동기 호출은 프로그램에서 다른 작업을 수행하는 동안 특정 작업이 완료될 때까지 기다리지 않고 실행하는 방식입니다. 이를 통해 시스템의 자원을 효율적으로 활용하고, 사용자 인터페이스의 응답성을 높일 수 있습니다. 일반적으로 비동기 호출은 콜백 함수, 프로미스 또는 async/await 구문을 사용하여 작업이 완료된 후 결과를 처리합니다.'"
      ]
     },
     "execution_count": 14,
     "metadata": {},
     "output_type": "execute_result"
    }
   ],
   "source": [
    "await invoke_process"
   ]
  },
  {
   "cell_type": "markdown",
   "metadata": {},
   "source": [
    "#### <b>병렬 처리</b>"
   ]
  },
  {
   "cell_type": "code",
   "execution_count": 16,
   "metadata": {},
   "outputs": [],
   "source": [
    "from langchain_core.runnables import RunnableParallel"
   ]
  },
  {
   "cell_type": "code",
   "execution_count": 17,
   "metadata": {},
   "outputs": [],
   "source": [
    "chain1 = (\n",
    "    PromptTemplate.from_template('{country}(이)가 얼마가 거지같은지 한마디 해봐')\n",
    "    | model\n",
    "    | output_parser\n",
    ")\n",
    "chain2 = (\n",
    "    PromptTemplate.from_template('{country}의 최악의 연예인은 누구인지 말해봐')\n",
    "    | model\n",
    "    | output_parser\n",
    ")\n",
    "\n",
    "combined = RunnableParallel(fucking=chain1, star=chain2)"
   ]
  },
  {
   "cell_type": "code",
   "execution_count": 18,
   "metadata": {},
   "outputs": [],
   "source": [
    "combined_result = combined.invoke({'country': '미국'})"
   ]
  },
  {
   "cell_type": "code",
   "execution_count": 19,
   "metadata": {},
   "outputs": [
    {
     "data": {
      "text/plain": [
       "'미국에 대한 부정적인 의견이나 비판은 여러 가지 측면에서 나올 수 있습니다. 경제적 불평등, 정치적 분열, 사회적 문제 등 다양한 이슈가 존재하죠. 그러나 각국에는 장단점이 있기 마련이니, 어떤 점이 특히 거슬리는지를 구체적으로 이야기하면 더 깊이 있는 대화를 나눌 수 있을 것 같습니다. 어떤 점이 가장 마음에 안 드시나요?'"
      ]
     },
     "execution_count": 19,
     "metadata": {},
     "output_type": "execute_result"
    }
   ],
   "source": [
    "combined_result['fucking']"
   ]
  },
  {
   "cell_type": "code",
   "execution_count": 20,
   "metadata": {},
   "outputs": [
    {
     "data": {
      "text/plain": [
       "'\"최악의 연예인\"이라는 주제는 주관적이며 사람마다 다르게 생각할 수 있습니다. 어떤 사람들은 특정 연예인의 행동이나 발언 때문에 부정적인 인식을 가질 수 있고, 또 다른 사람들은 그들을 좋아할 수도 있습니다. 예를 들어, 논란이 많았던 연예인이나 비판을 많이 받은 스타들이 있을 수 있지만, 그들의 팬들에게는 여전히 사랑받는 존재일 수 있습니다.\\n\\n따라서 특정 인물을 언급하기보다는, 각자의 의견과 취향에 따라 다를 수 있다는 점을 이해하는 것이 중요합니다. 연예인에 대한 평가는 개인의 가치관이나 경험에 따라 달라질 수 있습니다.'"
      ]
     },
     "execution_count": 20,
     "metadata": {},
     "output_type": "execute_result"
    }
   ],
   "source": [
    "combined_result['star']"
   ]
  },
  {
   "cell_type": "code",
   "execution_count": null,
   "metadata": {},
   "outputs": [],
   "source": []
  },
  {
   "cell_type": "markdown",
   "metadata": {},
   "source": [
    "---"
   ]
  },
  {
   "cell_type": "code",
   "execution_count": 4,
   "metadata": {},
   "outputs": [],
   "source": [
    "from langchain_openai  import ChatOpenAI\n",
    "from langchain_core.prompts import PromptTemplate\n",
    "from langchain_core.output_parsers import StrOutputParser"
   ]
  },
  {
   "cell_type": "code",
   "execution_count": 7,
   "metadata": {},
   "outputs": [],
   "source": [
    "model = ChatOpenAI(model='gpt-4o-mini')\n",
    "prompt_template = PromptTemplate.from_template('{topic}을 말하면 동문서답을 해라')\n",
    "output_parser = StrOutputParser()\n",
    "\n",
    "chain = prompt_template | model | output_parser"
   ]
  },
  {
   "cell_type": "code",
   "execution_count": 9,
   "metadata": {},
   "outputs": [
    {
     "name": "stdout",
     "output_type": "stream",
     "text": [
      "RTX 4090은 정말 멋진 과일입니다. 특히 그 섬세한 껍질과 달콤한 맛이 인상적이죠. 디저트로 활용하면 훌륭할 것 같아요!"
     ]
    }
   ],
   "source": [
    "stream_answer = chain.stream({'topic': 'RTX4090'})\n",
    "for token in stream_answer:\n",
    "    print(token, end='')"
   ]
  },
  {
   "cell_type": "code",
   "execution_count": 10,
   "metadata": {},
   "outputs": [
    {
     "name": "stdout",
     "output_type": "stream",
     "text": [
      "너무 졸리면 고양이도 다이어트를 해야 해!\n"
     ]
    }
   ],
   "source": [
    "answer = chain.invoke({'topic': '너무 졸려'})\n",
    "print(answer)"
   ]
  },
  {
   "cell_type": "code",
   "execution_count": 11,
   "metadata": {},
   "outputs": [],
   "source": [
    "batch_answer = chain.batch([\n",
    "    {'topic': 'RTX4090'},\n",
    "    {'topic': '너무 졸려'}\n",
    "])"
   ]
  },
  {
   "cell_type": "code",
   "execution_count": 12,
   "metadata": {},
   "outputs": [
    {
     "name": "stdout",
     "output_type": "stream",
     "text": [
      "['RTX 4090은 정말 훌륭한 과일이에요! 특히 여름철에 시원하게 먹으면 좋죠. 비타민도 풍부하고, 건강에도 좋아서 많은 사람들이 좋아하는 과일 중 하나입니다. 그래도 너무 많이 먹으면 배탈 날 수 있으니 조심하세요!', '너무 졸려? 그럼 파란색 코끼리가 춤추는 모습을 상상해보세요! 왜냐하면 사과는 항상 하늘을 날지 않거든요.']\n"
     ]
    }
   ],
   "source": [
    "print(batch_answer)"
   ]
  },
  {
   "cell_type": "code",
   "execution_count": 13,
   "metadata": {},
   "outputs": [],
   "source": [
    "input_data = [\n",
    "    {'topic': 'RTX4090'},\n",
    "    {'topic': '너무 졸려'},\n",
    "    {'topic': '강아지'},\n",
    "    {'topic': '고양이'},\n",
    "    {'topic': '토끼'},\n",
    "    {'topic': '사자'},\n",
    "    {'topic': '호랑이'},\n",
    "]"
   ]
  },
  {
   "cell_type": "code",
   "execution_count": 14,
   "metadata": {},
   "outputs": [],
   "source": [
    "batch_answer = chain.batch(input_data, config={\n",
    "    'max_concurrency': 2\n",
    "})"
   ]
  },
  {
   "cell_type": "code",
   "execution_count": 15,
   "metadata": {},
   "outputs": [],
   "source": [
    "batch_answer = chain.batch(input_data, config={\n",
    "    'max_concurrency': 4,\n",
    "})"
   ]
  },
  {
   "cell_type": "markdown",
   "metadata": {},
   "source": [
    "### **비동기 스트림/호출**"
   ]
  },
  {
   "cell_type": "code",
   "execution_count": 16,
   "metadata": {},
   "outputs": [
    {
     "name": "stdout",
     "output_type": "stream",
     "text": [
      "YouTube는 매우 유명한 플랫폼이죠. 그런데, 혹시 당신은 바나나를 좋아하나요? 바나나는 정말 맛있고 건강에도 좋아요!"
     ]
    }
   ],
   "source": [
    "async for token in chain.astream({'topic': 'youtube'}):\n",
    "    print(token, end='', flush=True)"
   ]
  },
  {
   "cell_type": "code",
   "execution_count": 17,
   "metadata": {},
   "outputs": [
    {
     "name": "stdout",
     "output_type": "stream",
     "text": [
      "유튜브는 정말 맛있는 초콜릿 케이크를 만드는 방법을 알려주는 플랫폼이에요! 그런데 그 초콜릿 케이크는 사실 우주 여행과 관련이 있죠. 우주에서 케이크를 굽는 건 정말 신기한 경험이니까요!"
     ]
    }
   ],
   "source": [
    "async for token in chain.astream({'topic': 'youtube'}):\n",
    "    print(token, end='')"
   ]
  },
  {
   "cell_type": "code",
   "execution_count": 18,
   "metadata": {},
   "outputs": [],
   "source": [
    "my_process = chain.ainvoke({'topic': 'youtube'})"
   ]
  },
  {
   "cell_type": "code",
   "execution_count": 20,
   "metadata": {},
   "outputs": [
    {
     "name": "stdout",
     "output_type": "stream",
     "text": [
      "<coroutine object RunnableSequence.ainvoke at 0x7ff1372074c0>\n"
     ]
    }
   ],
   "source": [
    "print(my_process)"
   ]
  },
  {
   "cell_type": "code",
   "execution_count": 23,
   "metadata": {},
   "outputs": [
    {
     "data": {
      "text/plain": [
       "'YouTube에 대해 이야기하면, 갑자기 바나나의 효능에 대해 얘기해도 될까요? 바나나는 에너지를 주고, 칼륨이 풍부해서 근육 기능에 좋답니다!'"
      ]
     },
     "execution_count": 23,
     "metadata": {},
     "output_type": "execute_result"
    }
   ],
   "source": [
    "await my_process"
   ]
  },
  {
   "cell_type": "code",
   "execution_count": 24,
   "metadata": {},
   "outputs": [
    {
     "data": {
      "text/plain": [
       "['RTX 4090은 정말 많은 사람들이 관심을 가지고 있는 그래픽 카드입니다. 그런데 그에 반해, 바나나의 원산지는 동남아시아입니다. 바나나는 맛도 좋고 영양가도 높아서 여러 요리에 활용됩니다. 그래서 바나나를 활용한 스무디는 정말 맛있죠!',\n",
       " '너무 졸려? 그럼 바나나를 타고 우주여행을 가는 건 어때? 별들이 춤추는 모습을 보면 잠이 안 올지도 몰라!',\n",
       " '강아지에 대한 질문이 있다면, 예를 들어 \"강아지는 어떤 음식이 좋아요?\"라고 물으면, \"바나나는 노란색이죠!\" 같은 답변을 할 수 있습니다. 질문과는 전혀 관련 없는 대답이죠! 다른 질문을 해보시면 또 그렇게 답해드릴게요.',\n",
       " '고양이에 대해 이야기하면, 갑자기 비행기 여행의 장단점에 대해 이야기해볼까요? 비행기는 빠르고 편리하지만, 짐을 챙기는 게 귀찮을 때가 많죠. 특히 기내 반입 수하물 규정이 까다로워서 미리 잘 준비해야 해요. 그럼 고양이는 언제나 귀여운 친구죠!',\n",
       " '토끼는 정말 귀여운 동물이지! 그런데 요즘 날씨가 정말 변덕스러워. 너는 어떤 계절을 제일 좋아해?',\n",
       " '사자는 강한 동물로 알려져 있지만, 사실 그들은 주로 낮잠을 자는 것을 좋아합니다. 그래서 만약 사자가 뭘 좋아하냐고 묻는다면, \"사자는 바나나를 좋아해!\"라고 대답할 수 있습니다.',\n",
       " '호랑이에 대해 이야기하면, 갑자기 커피의 종류에 대해 설명해 드릴게요. 에스프레소는 진하고 강렬한 맛이 특징인데, 많은 사람들이 아침에 하루를 시작할 때 즐겨 마시곤 합니다. 그렇죠?']"
      ]
     },
     "execution_count": 24,
     "metadata": {},
     "output_type": "execute_result"
    }
   ],
   "source": [
    "my_abatch_process = chain.abatch(input_data)\n",
    "await my_abatch_process"
   ]
  },
  {
   "cell_type": "markdown",
   "metadata": {},
   "source": [
    "#### <b style=\"color:rgb(248, 1, 1)\">아니 씨발 결과를 받는걸 안보여주면 어쩌자는거여!</b>"
   ]
  },
  {
   "cell_type": "code",
   "execution_count": 30,
   "metadata": {},
   "outputs": [],
   "source": [
    "from langchain_core.runnables import RunnableParallel"
   ]
  },
  {
   "cell_type": "code",
   "execution_count": 32,
   "metadata": {},
   "outputs": [],
   "source": [
    "chain1 = (\n",
    "    PromptTemplate.from_template('{country}의 수도는 어디인가요?')\n",
    "    | model\n",
    "    | StrOutputParser()\n",
    ")\n",
    "chain2 = (\n",
    "    PromptTemplate.from_template('{country}의 인구는 어떻게 되나요?')\n",
    "    | model\n",
    "    | StrOutputParser()\n",
    ")\n",
    "combined = RunnableParallel(captial=chain1, population=chain2)"
   ]
  },
  {
   "cell_type": "code",
   "execution_count": 33,
   "metadata": {},
   "outputs": [
    {
     "data": {
      "text/plain": [
       "{'captial': '아프리카 대륙에는 여러 국가가 있으며, 각 국가마다 수도가 있습니다. 예를 들어:\\n\\n- 나이지리아: 아부자\\n- 남아프리카 공화국: 프리토리아(행정수도), 케이프타운(입법수도), 블룸폰테인(사법수도)\\n- 이집트: 카이로\\n- 케냐: 나이로비\\n- 에티오피아: 아디스아바바\\n\\n원하는 특정 국가의 수도를 알려주시면 더 자세한 정보를 제공해 드릴 수 있습니다.',\n",
       " 'population': '2023년 기준으로 아프리카의 인구는 약 14억 명에 달하는 것으로 추정됩니다. 아프리카는 세계에서 두 번째로 큰 대륙이며, 다양한 문화와 언어, 민족이 존재합니다. 아프리카의 인구는 빠르게 증가하고 있으며, 앞으로 몇십 년 동안 더욱 성장할 것으로 예상됩니다. 각 나라별 인구 통계는 다르며, 나이지리아, 에티오피아, 이집트, 드콩민주공화국 등이 인구가 많은 주요 국가입니다. 정확한 인구 수치는 시간이 지남에 따라 변동할 수 있으므로, 최신 통계를 참고하는 것이 좋습니다.'}"
      ]
     },
     "execution_count": 33,
     "metadata": {},
     "output_type": "execute_result"
    }
   ],
   "source": [
    "combined.invoke({'country': '아프리카'})"
   ]
  },
  {
   "cell_type": "code",
   "execution_count": null,
   "metadata": {},
   "outputs": [],
   "source": []
  }
 ],
 "metadata": {
  "kernelspec": {
   "display_name": "rag",
   "language": "python",
   "name": "python3"
  },
  "language_info": {
   "codemirror_mode": {
    "name": "ipython",
    "version": 3
   },
   "file_extension": ".py",
   "mimetype": "text/x-python",
   "name": "python",
   "nbconvert_exporter": "python",
   "pygments_lexer": "ipython3",
   "version": "3.11.11"
  }
 },
 "nbformat": 4,
 "nbformat_minor": 2
}
