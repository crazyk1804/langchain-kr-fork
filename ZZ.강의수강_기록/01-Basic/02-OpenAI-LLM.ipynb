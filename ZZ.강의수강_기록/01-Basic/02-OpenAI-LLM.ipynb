{
 "cells": [
  {
   "cell_type": "code",
   "execution_count": 7,
   "metadata": {},
   "outputs": [],
   "source": [
    "import os, sys\n",
    "sys.path.append('../..')"
   ]
  },
  {
   "cell_type": "code",
   "execution_count": 10,
   "metadata": {},
   "outputs": [
    {
     "data": {
      "text/plain": [
       "True"
      ]
     },
     "execution_count": 10,
     "metadata": {},
     "output_type": "execute_result"
    }
   ],
   "source": [
    "from dotenv import load_dotenv\n",
    "from ck_helper import print_attrs, ready_langchain\n",
    "from langchain_openai import ChatOpenAI\n",
    "\n",
    "load_dotenv()"
   ]
  },
  {
   "cell_type": "code",
   "execution_count": 9,
   "metadata": {},
   "outputs": [
    {
     "name": "stdout",
     "output_type": "stream",
     "text": [
      "LangSmith 추적을 시작합니다.\n",
      "[프로젝트명]\n",
      "CVAL\n"
     ]
    }
   ],
   "source": [
    "from langchain_teddynote import logging\n",
    "logging.langsmith('CVAL')"
   ]
  },
  {
   "cell_type": "markdown",
   "metadata": {},
   "source": [
    "#### <b>일반사용</b>"
   ]
  },
  {
   "cell_type": "code",
   "execution_count": 11,
   "metadata": {},
   "outputs": [],
   "source": [
    "model_name = 'gpt-4o-mini'\n",
    "llm = ChatOpenAI(temperature=.1, model_name=model_name)\n",
    "question = '내가 이걸 몇번째 하고 있는지 아니?'\n",
    "response = llm.invoke(question)"
   ]
  },
  {
   "cell_type": "code",
   "execution_count": 12,
   "metadata": {},
   "outputs": [
    {
     "name": "stdout",
     "output_type": "stream",
     "text": [
      "========================================\n",
      " [content]\n",
      " 죄송하지만, 제가 당신의 이전 대화나 활동을 기억할 수는 없습니다. 하지만 도움이 필요하시면 언제든지 말씀해 주세요!\n",
      "========================================\n",
      " [additional_kwargs]\n",
      " {'refusal': None}\n",
      "========================================\n",
      " [response_metadata]\n",
      " {'token_usage': {'completion_tokens': 32, 'prompt_tokens': 18, 'total_tokens': 50, 'completion_tokens_details': {'accepted_prediction_tokens': 0, 'audio_tokens': 0, 'reasoning_tokens': 0, 'rejected_prediction_tokens': 0}, 'prompt_tokens_details': {'audio_tokens': 0, 'cached_tokens': 0}}, 'model_name': 'gpt-4o-mini-2024-07-18', 'system_fingerprint': 'fp_b376dfbbd5', 'finish_reason': 'stop', 'logprobs': None}\n",
      "========================================\n",
      " [type]\n",
      " ai\n",
      "========================================\n",
      " [name]\n",
      " None\n",
      "========================================\n",
      " [id]\n",
      " run-4cfdd444-ab8f-47f0-8b9f-06ed33abfb00-0\n",
      "========================================\n",
      " [example]\n",
      " False\n",
      "========================================\n",
      " [tool_calls]\n",
      " []\n",
      "========================================\n",
      " [invalid_tool_calls]\n",
      " []\n",
      "========================================\n",
      " [usage_metadata]\n",
      " {'input_tokens': 18, 'output_tokens': 32, 'total_tokens': 50, 'input_token_details': {'audio': 0, 'cache_read': 0}, 'output_token_details': {'audio': 0, 'reasoning': 0}}\n"
     ]
    }
   ],
   "source": [
    "print_attrs(response)"
   ]
  },
  {
   "cell_type": "code",
   "execution_count": 15,
   "metadata": {},
   "outputs": [
    {
     "name": "stdout",
     "output_type": "stream",
     "text": [
      "죄송하지만, 제가 당신의 이전 대화나 활동을 기억할 수는 없습니다. 하지만 도움이 필요하시면 언제든지 말씀해 주세요!\n",
      "{'token_usage': {'completion_tokens': 32, 'prompt_tokens': 18, 'total_tokens': 50, 'completion_tokens_details': {'accepted_prediction_tokens': 0, 'audio_tokens': 0, 'reasoning_tokens': 0, 'rejected_prediction_tokens': 0}, 'prompt_tokens_details': {'audio_tokens': 0, 'cached_tokens': 0}}, 'model_name': 'gpt-4o-mini-2024-07-18', 'system_fingerprint': 'fp_b376dfbbd5', 'finish_reason': 'stop', 'logprobs': None}\n"
     ]
    }
   ],
   "source": [
    "print(response.content)\n",
    "print(response.response_metadata)"
   ]
  },
  {
   "cell_type": "markdown",
   "metadata": {},
   "source": [
    "#### <b>스트리밍</b>"
   ]
  },
  {
   "cell_type": "code",
   "execution_count": 20,
   "metadata": {},
   "outputs": [
    {
     "name": "stdout",
     "output_type": "stream",
     "text": [
      "죄송하지만, 제가 당신의 이전 대화나 활동을 추적할 수는 없습니다. 하지만 도움이 필요하시면 언제든지 말씀해 주세요!\n",
      "65\n"
     ]
    }
   ],
   "source": [
    "response_string = ''\n",
    "answer = llm.stream(question)\n",
    "for token in answer:\n",
    "    print(token.content, end='', flush=True)\n",
    "    response_string += token.content\n",
    "    # print_attrs(token)\n",
    "    # break\n",
    "print()\n",
    "print(len(response_string))"
   ]
  },
  {
   "cell_type": "markdown",
   "metadata": {},
   "source": [
    "#### <b>프롬프트 캐싱</b>"
   ]
  },
  {
   "cell_type": "code",
   "execution_count": 21,
   "metadata": {},
   "outputs": [],
   "source": [
    "from langchain_teddynote.messages import stream_response"
   ]
  },
  {
   "cell_type": "code",
   "execution_count": 24,
   "metadata": {},
   "outputs": [],
   "source": [
    "some_prompt = '''\n",
    "Lorem Ipsum is simply dummy text of the printing and typesetting industry. \n",
    "Lorem Ipsum has been the industry's standard dummy text ever since the 1500s,\n",
    "when an unknown printer took a galley of type and scrambled it to make a type specimen book.\n",
    "It has survived not only five centuries, but also the leap into electronic typesetting,\n",
    "remaining essentially unchanged. It was popularised in the 1960s with the release of \n",
    "Letraset sheets containing Lorem Ipsum passages, and more recently with desktop publishing \n",
    "software like Aldus PageMaker including versions of Lorem Ipsum.\n",
    "\n",
    "#Question: {}\n",
    "'''"
   ]
  },
  {
   "cell_type": "code",
   "execution_count": 23,
   "metadata": {},
   "outputs": [],
   "source": [
    "from langchain.callbacks import get_openai_callback"
   ]
  },
  {
   "cell_type": "code",
   "execution_count": 25,
   "metadata": {},
   "outputs": [
    {
     "name": "stdout",
     "output_type": "stream",
     "text": [
      "Lorem Ipsum는 1500년대부터 인쇄 및 조판 산업의 표준 더미 텍스트로 사용되어 왔으며, 전자 조판으로의 전환에도 불구하고 본질적으로 변하지 않고 유지되어 왔습니다. 1960년대에는 Letraset 시트와 데스크탑 출판 소프트웨어의 출현으로 더욱 대중화되었습니다.\n",
      "캐싱 된 토큰: 0\n",
      "Prompt tokens: 137\n"
     ]
    }
   ],
   "source": [
    "with get_openai_callback() as cb:\n",
    "    answer = llm.invoke(some_prompt.format('2문장으로 요약해봐'))\n",
    "    chached_tokens = answer.response_metadata['token_usage']['prompt_tokens_details']['cached_tokens']\n",
    "    print(answer.content)\n",
    "    print(f'캐싱 된 토큰: {chached_tokens}')\n",
    "    print(f'Prompt tokens: {cb.prompt_tokens}')"
   ]
  },
  {
   "cell_type": "code",
   "execution_count": 26,
   "metadata": {},
   "outputs": [
    {
     "name": "stdout",
     "output_type": "stream",
     "text": [
      "Tokens Used: 217\n",
      "\tPrompt Tokens: 137\n",
      "\t\tPrompt Tokens Cached: 0\n",
      "\tCompletion Tokens: 80\n",
      "\t\tReasoning Tokens: 0\n",
      "Successful Requests: 1\n",
      "Total Cost (USD): $6.855e-05\n",
      "Lorem Ipsum는 1500년대부터 인쇄 및 조판 산업에서 사용된 더미 텍스트로, 전자 조판으로의 전환에도 불구하고 본질적으로 변하지 않고 유지되어 왔습니다. 1960년대에는 Letraset 시트와 데스크탑 출판 소프트웨어의 출현으로 더욱 대중화되었습니다.\n",
      "캐싱 된 토큰: 0\n",
      "Prompt tokens: 137\n"
     ]
    }
   ],
   "source": [
    "with get_openai_callback() as cb:\n",
    "    answer = llm.invoke(some_prompt.format('2문장으로 요약해봐'))\n",
    "    chached_tokens = answer.response_metadata['token_usage']['prompt_tokens_details']['cached_tokens']\n",
    "    print(cb)\n",
    "    print(answer.content)\n",
    "    print(f'캐싱 된 토큰: {chached_tokens}')\n",
    "    print(f'Prompt tokens: {cb.prompt_tokens}')"
   ]
  },
  {
   "cell_type": "code",
   "execution_count": 27,
   "metadata": {},
   "outputs": [
    {
     "name": "stdout",
     "output_type": "stream",
     "text": [
      "Tokens Used: 215\n",
      "\tPrompt Tokens: 137\n",
      "\t\tPrompt Tokens Cached: 0\n",
      "\tCompletion Tokens: 78\n",
      "\t\tReasoning Tokens: 0\n",
      "Successful Requests: 1\n",
      "Total Cost (USD): $6.735e-05\n",
      "Lorem Ipsum는 1500년대부터 인쇄 및 조판 산업에서 사용된 더미 텍스트로, 전자 조판으로의 전환에도 불구하고 본질적으로 변하지 않고 살아남았습니다. 1960년대에는 Letraset 시트와 데스크탑 출판 소프트웨어의 출현으로 더욱 대중화되었습니다.\n",
      "캐싱 된 토큰: 0\n",
      "Prompt tokens: 137\n"
     ]
    }
   ],
   "source": [
    "with get_openai_callback() as cb:\n",
    "    answer = llm.invoke(some_prompt.format('2문장으로 요약해봐'))\n",
    "    chached_tokens = answer.response_metadata['token_usage']['prompt_tokens_details']['cached_tokens']\n",
    "    print(cb)\n",
    "    print(answer.content)\n",
    "    print(f'캐싱 된 토큰: {chached_tokens}')\n",
    "    print(f'Prompt tokens: {cb.prompt_tokens}')"
   ]
  },
  {
   "cell_type": "markdown",
   "metadata": {},
   "source": [
    "#### <b>모라게따 씨부랄꺼 뭐가 달러</b>"
   ]
  },
  {
   "cell_type": "markdown",
   "metadata": {},
   "source": [
    "#### <b>이미지는 비싸니까 반복하는데다 사용하진 않겠음</b>"
   ]
  },
  {
   "cell_type": "code",
   "execution_count": null,
   "metadata": {},
   "outputs": [],
   "source": []
  }
 ],
 "metadata": {
  "kernelspec": {
   "display_name": "rag",
   "language": "python",
   "name": "python3"
  },
  "language_info": {
   "codemirror_mode": {
    "name": "ipython",
    "version": 3
   },
   "file_extension": ".py",
   "mimetype": "text/x-python",
   "name": "python",
   "nbconvert_exporter": "python",
   "pygments_lexer": "ipython3",
   "version": "3.11.11"
  }
 },
 "nbformat": 4,
 "nbformat_minor": 2
}
